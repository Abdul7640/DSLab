{
 "cells": [
  {
   "cell_type": "markdown",
   "id": "8a0b1b79",
   "metadata": {},
   "source": [
    "<h1>Data Science Tools and Ecosystem</h1>"
   ]
  },
  {
   "cell_type": "markdown",
   "id": "f3acd50f",
   "metadata": {},
   "source": [
    "In this notebook, Data Science Tools and Ecosystem are summarized."
   ]
  },
  {
   "cell_type": "markdown",
   "id": "3830381f",
   "metadata": {},
   "source": [
    "Some of the popular languages that Data Scientists use are:"
   ]
  },
  {
   "cell_type": "markdown",
   "id": "233bf44e",
   "metadata": {},
   "source": [
    "<ol><li>Python</li>\n",
    "<li>R</li>\n",
    "<li>SQL</li></ol>"
   ]
  },
  {
   "cell_type": "markdown",
   "id": "37870969",
   "metadata": {},
   "source": [
    "Some of the commonly used libraries used by Data Scientists include:"
   ]
  },
  {
   "cell_type": "markdown",
   "id": "33e744c3",
   "metadata": {},
   "source": [
    "<ol><li>Pandas</li>\n",
    "<li>Sklearn</li>\n",
    "<li>pytorch</li>\n",
    "<li>matplotlib</li>\n",
    "<li>numpy</li></ol>"
   ]
  },
  {
   "cell_type": "markdown",
   "id": "ea126133",
   "metadata": {},
   "source": [
    "Data Science Tools"
   ]
  },
  {
   "cell_type": "markdown",
   "id": "794c8fbb",
   "metadata": {},
   "source": [
    "<table border=\"1\">\n",
    "    <tr>\n",
    "        <th>Data Science Tools</th>\n",
    "    </tr>\n",
    "    <tr>\n",
    "        <td>Jupyter Notebook</td>\n",
    "    </tr>\n",
    "    <tr>\n",
    "        <td>RStudio</td>\n",
    "    </tr>\n",
    "    <tr>\n",
    "        <td>VS Code with Python Extension</td>\n",
    "    </tr>\n",
    "</table>\n"
   ]
  },
  {
   "cell_type": "markdown",
   "id": "37d88718",
   "metadata": {},
   "source": [
    "<h3>Below are a few examples of evaluating arithmetic expressions in Python</h3>"
   ]
  },
  {
   "cell_type": "code",
   "execution_count": 2,
   "id": "75f30463",
   "metadata": {},
   "outputs": [],
   "source": [
    "# This is a simple arithmetic expression to multiply then add integers"
   ]
  },
  {
   "cell_type": "code",
   "execution_count": 3,
   "id": "e068ff94",
   "metadata": {},
   "outputs": [
    {
     "data": {
      "text/plain": [
       "17"
      ]
     },
     "execution_count": 3,
     "metadata": {},
     "output_type": "execute_result"
    }
   ],
   "source": [
    "(3*4)+5"
   ]
  },
  {
   "cell_type": "code",
   "execution_count": 4,
   "id": "9e4cc8e1",
   "metadata": {},
   "outputs": [],
   "source": [
    "# This will convert 200 minutes to hours by diving by 60"
   ]
  },
  {
   "cell_type": "code",
   "execution_count": 9,
   "id": "e37d412b",
   "metadata": {},
   "outputs": [
    {
     "name": "stdout",
     "output_type": "stream",
     "text": [
      "3 hours 20 minutes\n",
      "Rounded: 3.33 hours\n"
     ]
    }
   ],
   "source": [
    "minutes= 200 \n",
    "hours = minutes/60\n",
    "decimal_minutes = (hours - int(hours)) * 60\n",
    "rounded_hours= round(hours,2)\n",
    "print(f\"{int(hours)} hours {int(decimal_minutes)} minutes\")\n",
    "print(f\"Rounded: {rounded_hours} hours\")"
   ]
  },
  {
   "cell_type": "markdown",
   "id": "3a07d2c5",
   "metadata": {},
   "source": [
    "<h3>Objectives:</h3>"
   ]
  },
  {
   "cell_type": "markdown",
   "id": "be277cd6",
   "metadata": {},
   "source": [
    "<ol>\n",
    "<li>Overview of Basic Data Sciences Tools</li>\n",
    "<li>How to use Jupyter Notebook</li>\n",
    "<li>Utility and usage of IBM Watson Studio</li>\n",
    "<li>Importance of Data Science tools and libraries vailable</li></ol>"
   ]
  },
  {
   "cell_type": "markdown",
   "id": "98f29493",
   "metadata": {},
   "source": [
    "<h2>Author</h2>"
   ]
  },
  {
   "cell_type": "markdown",
   "id": "4aa2d732",
   "metadata": {},
   "source": [
    "Zia Ur Rehman Chaudhry"
   ]
  }
 ],
 "metadata": {
  "kernelspec": {
   "display_name": "Python 3 (ipykernel)",
   "language": "python",
   "name": "python3"
  },
  "language_info": {
   "codemirror_mode": {
    "name": "ipython",
    "version": 3
   },
   "file_extension": ".py",
   "mimetype": "text/x-python",
   "name": "python",
   "nbconvert_exporter": "python",
   "pygments_lexer": "ipython3",
   "version": "3.11.3"
  }
 },
 "nbformat": 4,
 "nbformat_minor": 5
}
